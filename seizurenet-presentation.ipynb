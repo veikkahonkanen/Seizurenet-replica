{
 "cells": [
  {
   "cell_type": "code",
   "execution_count": 1,
   "metadata": {},
   "outputs": [
    {
     "data": {
      "text/plain": [
       "'\\nComment the matrix and uncomment the file if you have one. You can create sample data on https://www.mockaroo.com/\\nby setting 4 columns of float numbers between values 0.1-5\\n\\n'"
      ]
     },
     "execution_count": 1,
     "metadata": {},
     "output_type": "execute_result"
    }
   ],
   "source": [
    "'''\n",
    "SeizureNet replica (theory demonstration version)\n",
    "Group 5 - Health machinae pro\n",
    "\"Note that I might change file contents anyhow in the future\" -Veikka\n",
    "'''\n",
    "\n",
    "import scipy\n",
    "import numpy as np\n",
    "import math\n",
    "import scipy.ndimage as ndimage\n",
    "from scipy.fftpack import fft, ifft\n",
    "import pandas as pd\n",
    "\n",
    "'''\n",
    "file = pd.read_excel(\"MOCK_DATA.xlsx\")\n",
    "samples = file.values\n",
    "'''\n",
    "samples = [[7, 1, 5, 0],\n",
    "[9, 0, 6, 7],\n",
    "[6, 6, 0, 5],\n",
    "[5, 6, 9, 0],\n",
    "[3, 1, 1, 4],\n",
    "[2, 4, 7, 3],\n",
    "[1, 5, 3, 5],\n",
    "[5, 5, 4,7],\n",
    "[3, 8, 2, 2],\n",
    "[4, 5, 3, 1]]\n",
    "'''\n",
    "Comment the matrix and uncomment the file if you have one. You can create sample data on https://www.mockaroo.com/\n",
    "by setting 4 columns of float numbers between values 0.1-5\n",
    "\n",
    "'''"
   ]
  },
  {
   "cell_type": "code",
   "execution_count": 2,
   "metadata": {},
   "outputs": [
    {
     "data": {
      "text/plain": [
       "[[0.26236426446749106,\n",
       "  -1.4978661367769954,\n",
       "  0.09531017980432493,\n",
       "  -1.4978661367769954],\n",
       " [0.7884573603642703,\n",
       "  -0.27236358772083596,\n",
       "  -0.2231435513142097,\n",
       "  -0.27236358772083596],\n",
       " [0.5306282510621705,\n",
       "  -0.4971261366719334,\n",
       "  -0.6931471805599453,\n",
       "  -0.4971261366719334],\n",
       " [0.6931471805599453,\n",
       "  -0.3269632337033319,\n",
       "  -0.2231435513142097,\n",
       "  -0.3269632337033319],\n",
       " [-0.10536051565782628,\n",
       "  -1.0201104142632773,\n",
       "  -2.3025850929940455,\n",
       "  -1.0201104142632773],\n",
       " [0.47000362924573563,\n",
       "  -0.6735368239833046,\n",
       "  -1.6094379124341003,\n",
       "  -0.6735368239833046],\n",
       " [0.336472236621213,\n",
       "  -1.6094379124341003,\n",
       "  -0.5108256237659905,\n",
       "  -1.6094379124341003],\n",
       " [0.7419373447293773,\n",
       "  -1.4978661367769954,\n",
       "  -1.203972804325936,\n",
       "  -1.4978661367769954],\n",
       " [0.4054651081081644,\n",
       "  -0.4971261366719334,\n",
       "  -0.6931471805599453,\n",
       "  -0.4971261366719334],\n",
       " [0.26236426446749106,\n",
       "  -0.8859784209659376,\n",
       "  -2.3025850929940455,\n",
       "  -0.8859784209659376]]"
      ]
     },
     "execution_count": 2,
     "metadata": {},
     "output_type": "execute_result"
    }
   ],
   "source": [
    "#R^px20-dimensional feature map FT\n",
    "#FT=log(Amplitude(F(X)))\n",
    "\n",
    "#TODO: channel filter, channel looper, replace samples with data\n",
    "'''\n",
    "Channels used in the document: \n",
    "F P1 − F7; F7 − T3; T3 − T5; T5 − O1; \n",
    "F P2 − F8; F8 − T4; T4−T6; T6−O2; T3−C3; C3−CZ; CZ −C4; C4−T4; \n",
    "F P1−F3; F3−C3; C3−P3; P3−O1; \n",
    "F P2−F4; F4−C4; C4−P4; P4−O2\n",
    "'''\n",
    "\n",
    "\n",
    "#(F(X))\n",
    "fx = np.abs(fft(samples))\n",
    "#log(Amplitude(...))\n",
    "#log doesn't take array as argument\n",
    "FT_list = []\n",
    "for i in fx:\n",
    "    line = []\n",
    "    for j in i:\n",
    "        if j==0:\n",
    "            line.append(j)\n",
    "        else:\n",
    "            line.append(math.log(2/20 * j))\n",
    "    FT_list.append(line)\n",
    "    \n",
    "FT_list"
   ]
  },
  {
   "cell_type": "code",
   "execution_count": 3,
   "metadata": {},
   "outputs": [
    {
     "name": "stdout",
     "output_type": "stream",
     "text": [
      "[[  1.66434535  16.2627074    1.20755987  16.2627074 ]\n",
      " [  4.21549466 305.50717357 338.94338365 305.50717357]\n",
      " [  2.71471291 187.54414904 120.31623999 187.54414904]\n",
      " [  3.59493901 271.91844393 338.94338365 271.91844393]\n",
      " [432.67956652  55.24149663   1.64841718  55.24149663]\n",
      " [  2.43736518 125.8763576   12.0454789  125.8763576 ]\n",
      " [  1.91130433  12.0454789  181.91631375  12.0454789 ]\n",
      " [  3.90222848  16.2627074   34.92201254  16.2627074 ]\n",
      " [  2.16928246 187.54414904 120.31623999 187.54414904]\n",
      " [  1.66434535  76.46196342   1.64841718  76.46196342]]\n",
      "[[8.70118239e+00+0.j 1.44897897e-03+0.j 6.10646272e+00-0.j\n",
      "  1.44897897e-03+0.j]\n",
      " [6.32254545e+03+0.j 7.78074720e+02+0.j 4.98239946e+02-0.j\n",
      "  7.78074720e+02-0.j]\n",
      " [1.72307492e+03+0.j 9.60424943e+01+0.j 4.41200731e+02-0.j\n",
      "  9.60424943e+01-0.j]\n",
      " [5.45597926e+03+0.j 7.80962356e+02+0.j 2.81396614e+02-0.j\n",
      "  7.80962356e+02-0.j]\n",
      " [2.06124306e+03+0.j 1.29019341e+03+0.j 7.28302624e+02+0.j\n",
      "  1.29019341e+03+0.j]\n",
      " [4.92231757e+02+0.j 6.41082287e-01+0.j 3.90951332e+02-0.j\n",
      "  6.41082287e-01-0.j]\n",
      " [3.00209265e+02+0.j 2.25012524e+02+0.j 1.77193060e+02+0.j\n",
      "  2.25012524e+02-0.j]\n",
      " [3.53525930e+01+0.j 6.68213197e+00+0.j 2.75522303e-01+0.j\n",
      "  6.68213197e+00-0.j]\n",
      " [1.71930352e+03+0.j 9.69354415e+01+0.j 4.43112238e+02-0.j\n",
      "  9.69354415e+01-0.j]\n",
      " [1.69513216e+02+0.j 1.76185112e-06+0.j 1.55440976e+02-0.j\n",
      "  1.76185112e-06+0.j]]\n"
     ]
    },
    {
     "name": "stderr",
     "output_type": "stream",
     "text": [
      "C:\\ProgramData\\Anaconda3\\lib\\site-packages\\ipykernel_launcher.py:47: ComplexWarning: Casting complex values to real discards the imaginary part\n"
     ]
    }
   ],
   "source": [
    "#Saliency map S1\n",
    "#S1=G∗F^−1(exp(FT−H∗FT)+P)^2\n",
    "\n",
    "#Gaussian kernel\n",
    "GK = np.array([[1/16, 1/8, 1/16],\n",
    "             [1/8, 1/4, 1/8],\n",
    "             [1/16, 1/8, 1/16]])\n",
    "#Local 3x3 averaging filter\n",
    "af = np.array([[1/9, 1/9, 1/9],\n",
    "             [1/9, 1/9, 1/9],\n",
    "             [1/9, 1/9, 1/9]])\n",
    "#Data arrays dimensions and padding\n",
    "FT = np.asarray(FT_list)\n",
    "(dim_x, dim_y) = np.shape(FT)\n",
    "FT_padded = scipy.pad(array=FT, pad_width=[1, 1], mode='constant', constant_values=0)\n",
    "(dim_x_padded, dim_y_padded) = np.shape(FT_padded)\n",
    "\n",
    "#Ft-H*FT\n",
    "H_padded = np.zeros(FT_padded.shape)\n",
    "for i in range (1, dim_x_padded-1):\n",
    "    for j in range(1, dim_y_padded-1):\n",
    "        entry = FT_padded[i-1:i+2, j-1:j+2]\n",
    "        #print(np.shape(entry))\n",
    "        valor = entry*af\n",
    "        #print(valor)\n",
    "        H_padded[i-1:i+2, j-1:j+2] = valor\n",
    "#print(H_padded)\n",
    "H = np.zeros(FT.shape)\n",
    "for i in range (1, dim_x_padded-1):\n",
    "    for j in range(1, dim_y_padded-1):\n",
    "        H[i-1, j-1] = H_padded[i, j]\n",
    "#print(H)\n",
    "exp_FT_H_FT_P_2 = (np.exp((FT-(H*FT)+np.angle(FT))))**2\n",
    "print(exp_FT_H_FT_P_2)\n",
    "\n",
    "#Inverse Fourier\n",
    "F1 = ifft(exp_FT_H_FT_P_2)\n",
    "\n",
    "#Run through Gaussian kernel\n",
    "F1_padded = scipy.pad(array=F1, pad_width=[1, 1], mode='constant', constant_values=0)\n",
    "(dim_x_padded, dim_y_padded) = np.shape(F1_padded)\n",
    "G_padded = np.zeros(F1_padded.shape)\n",
    "for i in range (1, dim_x_padded-1):\n",
    "    for j in range(1, dim_y_padded-1):\n",
    "        entry = F1_padded[i-1:i+2, j-1:j+2]\n",
    "        valor = entry*af\n",
    "        G_padded[i-1:i+2, j-1:j+2] = valor\n",
    "#print(G_padded)\n",
    "G = np.zeros(F1.shape)\n",
    "for i in range (1, dim_x_padded-1):\n",
    "    for j in range(1, dim_y_padded-1):\n",
    "        G[i-1, j-1] = G_padded[i, j]\n",
    "#print(G)\n",
    "S1 = G*F1\n",
    "print(S1)\n",
    "#blurred = np.zeros(samples.shape)\n",
    "#blurred = ndimage.gaussian_filter(samples, sigma=1)\n",
    "#blurred\n"
   ]
  },
  {
   "cell_type": "code",
   "execution_count": 4,
   "metadata": {},
   "outputs": [
    {
     "name": "stdout",
     "output_type": "stream",
     "text": [
      "[[1.7602304  0.         1.59317632 0.        ]\n",
      " [1.48160454 0.42078359 0.47000363 0.22476255]\n",
      " [2.83321334 1.80545896 1.60943791 0.52298428]\n",
      " [2.99573227 1.97562186 2.07944154 0.69314718]\n",
      " [2.19722458 1.28247468 0.         0.5893275 ]\n",
      " [2.07944154 0.93590109 0.         0.93590109]\n",
      " [1.94591015 0.         1.09861229 0.        ]\n",
      " [3.04452244 0.80471896 1.09861229 0.        ]\n",
      " [2.7080502  1.80545896 1.60943791 0.38885228]\n",
      " [2.56494936 1.41660667 0.         0.        ]]\n"
     ]
    }
   ],
   "source": [
    "#Saliency map S2\n",
    "#S2(i) =∑ρ∈[2,3,4](FTi−min([FTk,ρ])),∀k∈Ω\n",
    "\n",
    "#TODO: separate the channels to get minimum value across channels\n",
    "#Function to calculate min([FTk,ρ])\n",
    "def ftkp(i):\n",
    "    flattened = np.matrix.flatten(i)\n",
    "    return min(flattened)\n",
    "\n",
    "F2 = np.zeros(FT.shape)\n",
    "F2_padded = scipy.pad(array=F2, pad_width=[1, 1], mode='constant', constant_values=0)\n",
    "(dim_x_padded, dim_y_padded) = np.shape(F2_padded)\n",
    "#Note that here we suppose that radius ρ equals 1\n",
    "#Note that we're getting minimum value from each FTk,ρ that is padded, but the numbers are all negative so this doesn't matter\n",
    "for i in range (1, dim_x_padded-1):\n",
    "    for j in range(1, dim_y_padded-1):\n",
    "        entry = FT[i-1:i+2, j-1:j+2]\n",
    "        valor = ftkp(entry)\n",
    "        F2[i-1, j-1] = valor\n",
    "#print(F2)\n",
    "\n",
    "S2 = np.zeros(FT.shape)\n",
    "(dim_x, dim_y) = np.shape(FT)\n",
    "for i in range (0, dim_x):\n",
    "    for j in range(0, dim_y):\n",
    "        min_val = np.subtract(FT[i, j],F2[i, j])\n",
    "        #print(min_val)\n",
    "        S2[i, j] = (min_val)\n",
    "print(S2)"
   ]
  },
  {
   "cell_type": "code",
   "execution_count": 5,
   "metadata": {},
   "outputs": [
    {
     "name": "stdout",
     "output_type": "stream",
     "text": [
      "[[211  66 197  66]\n",
      " [255 167 171 167]\n",
      " [233 148 132 148]\n",
      " [247 162 171 162]\n",
      " [181 105   0 105]\n",
      " [228 134  57 134]\n",
      " [217  57 147  57]\n",
      " [251  66  90  66]\n",
      " [223 148 132 148]\n",
      " [211 116   0 116]]\n",
      "[[  0   0   0   0]\n",
      " [255  31  20  31]\n",
      " [ 69   3  17   3]\n",
      " [220  31  11  31]\n",
      " [ 83  52  29  52]\n",
      " [ 19   0  15   0]\n",
      " [ 12   9   7   9]\n",
      " [  1   0   0   0]\n",
      " [ 69   3  17   3]\n",
      " [  6   0   6   0]]\n",
      "[[147   0 133   0]\n",
      " [124  35  39  18]\n",
      " [237 151 134  43]\n",
      " [250 165 174  58]\n",
      " [184 107   0  49]\n",
      " [174  78   0  78]\n",
      " [162   0  92   0]\n",
      " [255  67  92   0]\n",
      " [226 151 134  32]\n",
      " [214 118   0   0]]\n",
      "[[  0   0   0   0]\n",
      " [124   2   2   1]\n",
      " [ 59   1   4   0]\n",
      " [209  13   5   4]\n",
      " [ 42   9   0   4]\n",
      " [ 12   0   0   0]\n",
      " [  6   0   1   0]\n",
      " [  1   0   0   0]\n",
      " [ 54   1   4   0]\n",
      " [  4   0   0   0]]\n"
     ]
    },
    {
     "name": "stderr",
     "output_type": "stream",
     "text": [
      "C:\\ProgramData\\Anaconda3\\lib\\site-packages\\ipykernel_launcher.py:15: ComplexWarning: Casting complex values to real discards the imaginary part\n",
      "  from ipykernel import kernelapp as app\n",
      "C:\\ProgramData\\Anaconda3\\lib\\site-packages\\ipykernel_launcher.py:26: ComplexWarning: Casting complex values to real discards the imaginary part\n"
     ]
    }
   ],
   "source": [
    "#from sklearn.preprocessing import normalize\n",
    "\n",
    "#Data concatenation into RGB-like structure\n",
    "#D = [|FT|, |S1|, |S2|]\n",
    "\n",
    "#|FT| and its spectogram\n",
    "ftmax, ftmin = FT.max(), FT.min()\n",
    "ft_norm = (FT - ftmin)/(ftmax - ftmin)\n",
    "ft_norm_rgb = (ft_norm*255).astype(int)\n",
    "print(ft_norm_rgb)\n",
    "\n",
    "#|S1| and its spectogram\n",
    "s1max, s1min = S1.max(), S1.min()\n",
    "s1_norm = (S1 - s1min)/(s1max - s1min)\n",
    "s1_norm_rgb = (s1_norm*255).astype(int)\n",
    "print(s1_norm_rgb)\n",
    "\n",
    "#|S2| and its spectogram\n",
    "s2max, s2min = S2.max(), S2.min()\n",
    "s2_norm = (S2 - s2min)/(s2max - s2min)\n",
    "s2_norm_rgb = (s2_norm*255).astype(int)\n",
    "print(s2_norm_rgb)\n",
    "\n",
    "#D and its spectogram\n",
    "D = (ft_norm*s1_norm*s2_norm)\n",
    "d_norm_rgb = (D*255).astype(int)\n",
    "print(d_norm_rgb)"
   ]
  },
  {
   "cell_type": "code",
   "execution_count": 8,
   "metadata": {},
   "outputs": [
    {
     "data": {
      "text/plain": [
       "<matplotlib.image.AxesImage at 0x1750a752da0>"
      ]
     },
     "execution_count": 8,
     "metadata": {},
     "output_type": "execute_result"
    },
    {
     "data": {
      "text/plain": [
       "<Figure size 432x288 with 0 Axes>"
      ]
     },
     "metadata": {},
     "output_type": "display_data"
    },
    {
     "data": {
      "image/png": "[encoded data removed]",
      "text/plain": [
       "<Figure size 432x288 with 4 Axes>"
      ]
     },
     "metadata": {
      "needs_background": "light"
     },
     "output_type": "display_data"
    }
   ],
   "source": [
    "import matplotlib.pyplot as plt\n",
    "\n",
    "#Spectograms visualisation\n",
    "plt.figure()\n",
    "f, spectograms = plt.subplots(1,4) \n",
    "spectograms[0].imshow(ft_norm_rgb)\n",
    "spectograms[1].imshow(s1_norm_rgb)\n",
    "spectograms[2].imshow(s2_norm_rgb)\n",
    "spectograms[3].imshow(d_norm_rgb)\n",
    "#plt.imshow(ft_norm_rgb)"
   ]
  },
  {
   "cell_type": "code",
   "execution_count": 7,
   "metadata": {},
   "outputs": [
    {
     "ename": "ValueError",
     "evalue": "empty range for randrange() (0,-169, -169)",
     "output_type": "error",
     "traceback": [
      "\u001b[1;31m---------------------------------------------------------------------------\u001b[0m",
      "\u001b[1;31mValueError\u001b[0m                                Traceback (most recent call last)",
      "\u001b[1;32m<ipython-input-7-125ad4c46d90>\u001b[0m in \u001b[0;36m<module>\u001b[1;34m\u001b[0m\n\u001b[0;32m     25\u001b[0m     \u001b[1;32mreturn\u001b[0m \u001b[0msubspace\u001b[0m\u001b[1;33m\u001b[0m\u001b[1;33m\u001b[0m\u001b[0m\n\u001b[0;32m     26\u001b[0m \u001b[1;33m\u001b[0m\u001b[0m\n\u001b[1;32m---> 27\u001b[1;33m \u001b[0mtest\u001b[0m \u001b[1;33m=\u001b[0m \u001b[0mcreate_subspace\u001b[0m\u001b[1;33m(\u001b[0m\u001b[0mD\u001b[0m\u001b[1;33m,\u001b[0m\u001b[0mf\u001b[0m\u001b[1;33m,\u001b[0m\u001b[0mw\u001b[0m\u001b[1;33m,\u001b[0m\u001b[0mo\u001b[0m\u001b[1;33m)\u001b[0m\u001b[1;33m\u001b[0m\u001b[1;33m\u001b[0m\u001b[0m\n\u001b[0m\u001b[0;32m     28\u001b[0m \u001b[1;31m#print(test)\u001b[0m\u001b[1;33m\u001b[0m\u001b[1;33m\u001b[0m\u001b[1;33m\u001b[0m\u001b[0m\n\u001b[0;32m     29\u001b[0m \u001b[1;33m\u001b[0m\u001b[0m\n",
      "\u001b[1;32m<ipython-input-7-125ad4c46d90>\u001b[0m in \u001b[0;36mcreate_subspace\u001b[1;34m(this_matrix, this_f, this_w, this_o)\u001b[0m\n\u001b[0;32m     16\u001b[0m     \u001b[1;32mfor\u001b[0m \u001b[0mi\u001b[0m \u001b[1;32min\u001b[0m \u001b[0mrange\u001b[0m \u001b[1;33m(\u001b[0m\u001b[1;36m1\u001b[0m\u001b[1;33m,\u001b[0m\u001b[1;36m3\u001b[0m\u001b[1;33m)\u001b[0m\u001b[1;33m:\u001b[0m\u001b[1;33m\u001b[0m\u001b[1;33m\u001b[0m\u001b[0m\n\u001b[0;32m     17\u001b[0m         \u001b[1;31m#The position at highest can be = amount_of_samples_in_matrix - (3 * window length + window step size)\u001b[0m\u001b[1;33m\u001b[0m\u001b[1;33m\u001b[0m\u001b[1;33m\u001b[0m\u001b[0m\n\u001b[1;32m---> 18\u001b[1;33m         \u001b[0mposition\u001b[0m \u001b[1;33m=\u001b[0m \u001b[0mrandom\u001b[0m\u001b[1;33m.\u001b[0m\u001b[0mrandint\u001b[0m\u001b[1;33m(\u001b[0m\u001b[1;36m0\u001b[0m\u001b[1;33m,\u001b[0m\u001b[1;33m(\u001b[0m\u001b[0mlen\u001b[0m\u001b[1;33m(\u001b[0m\u001b[0mD\u001b[0m\u001b[1;33m)\u001b[0m\u001b[1;33m-\u001b[0m\u001b[1;33m(\u001b[0m\u001b[1;36m3\u001b[0m\u001b[1;33m*\u001b[0m\u001b[1;33m(\u001b[0m\u001b[0mthis_w\u001b[0m\u001b[1;33m+\u001b[0m\u001b[0mthis_o\u001b[0m\u001b[1;33m)\u001b[0m\u001b[1;33m)\u001b[0m\u001b[1;33m)\u001b[0m\u001b[1;33m)\u001b[0m\u001b[1;33m\u001b[0m\u001b[1;33m\u001b[0m\u001b[0m\n\u001b[0m\u001b[0;32m     19\u001b[0m         \u001b[0mk\u001b[0m \u001b[1;33m=\u001b[0m \u001b[1;36m0\u001b[0m\u001b[1;33m\u001b[0m\u001b[1;33m\u001b[0m\u001b[0m\n\u001b[0;32m     20\u001b[0m         \u001b[1;32mfor\u001b[0m \u001b[0mj\u001b[0m \u001b[1;32min\u001b[0m \u001b[0mrange\u001b[0m\u001b[1;33m(\u001b[0m\u001b[0mposition\u001b[0m\u001b[1;33m,\u001b[0m \u001b[0mposition\u001b[0m\u001b[1;33m+\u001b[0m\u001b[0mthis_w\u001b[0m\u001b[1;33m)\u001b[0m\u001b[1;33m:\u001b[0m\u001b[1;33m\u001b[0m\u001b[1;33m\u001b[0m\u001b[0m\n",
      "\u001b[1;32mC:\\ProgramData\\Anaconda3\\lib\\random.py\u001b[0m in \u001b[0;36mrandint\u001b[1;34m(self, a, b)\u001b[0m\n\u001b[0;32m    220\u001b[0m         \"\"\"\n\u001b[0;32m    221\u001b[0m \u001b[1;33m\u001b[0m\u001b[0m\n\u001b[1;32m--> 222\u001b[1;33m         \u001b[1;32mreturn\u001b[0m \u001b[0mself\u001b[0m\u001b[1;33m.\u001b[0m\u001b[0mrandrange\u001b[0m\u001b[1;33m(\u001b[0m\u001b[0ma\u001b[0m\u001b[1;33m,\u001b[0m \u001b[0mb\u001b[0m\u001b[1;33m+\u001b[0m\u001b[1;36m1\u001b[0m\u001b[1;33m)\u001b[0m\u001b[1;33m\u001b[0m\u001b[1;33m\u001b[0m\u001b[0m\n\u001b[0m\u001b[0;32m    223\u001b[0m \u001b[1;33m\u001b[0m\u001b[0m\n\u001b[0;32m    224\u001b[0m     def _randbelow(self, n, int=int, maxsize=1<<BPF, type=type,\n",
      "\u001b[1;32mC:\\ProgramData\\Anaconda3\\lib\\random.py\u001b[0m in \u001b[0;36mrandrange\u001b[1;34m(self, start, stop, step, _int)\u001b[0m\n\u001b[0;32m    198\u001b[0m             \u001b[1;32mreturn\u001b[0m \u001b[0mistart\u001b[0m \u001b[1;33m+\u001b[0m \u001b[0mself\u001b[0m\u001b[1;33m.\u001b[0m\u001b[0m_randbelow\u001b[0m\u001b[1;33m(\u001b[0m\u001b[0mwidth\u001b[0m\u001b[1;33m)\u001b[0m\u001b[1;33m\u001b[0m\u001b[1;33m\u001b[0m\u001b[0m\n\u001b[0;32m    199\u001b[0m         \u001b[1;32mif\u001b[0m \u001b[0mstep\u001b[0m \u001b[1;33m==\u001b[0m \u001b[1;36m1\u001b[0m\u001b[1;33m:\u001b[0m\u001b[1;33m\u001b[0m\u001b[1;33m\u001b[0m\u001b[0m\n\u001b[1;32m--> 200\u001b[1;33m             \u001b[1;32mraise\u001b[0m \u001b[0mValueError\u001b[0m\u001b[1;33m(\u001b[0m\u001b[1;34m\"empty range for randrange() (%d,%d, %d)\"\u001b[0m \u001b[1;33m%\u001b[0m \u001b[1;33m(\u001b[0m\u001b[0mistart\u001b[0m\u001b[1;33m,\u001b[0m \u001b[0mistop\u001b[0m\u001b[1;33m,\u001b[0m \u001b[0mwidth\u001b[0m\u001b[1;33m)\u001b[0m\u001b[1;33m)\u001b[0m\u001b[1;33m\u001b[0m\u001b[1;33m\u001b[0m\u001b[0m\n\u001b[0m\u001b[0;32m    201\u001b[0m \u001b[1;33m\u001b[0m\u001b[0m\n\u001b[0;32m    202\u001b[0m         \u001b[1;31m# Non-unit step argument supplied.\u001b[0m\u001b[1;33m\u001b[0m\u001b[1;33m\u001b[0m\u001b[1;33m\u001b[0m\u001b[0m\n",
      "\u001b[1;31mValueError\u001b[0m: empty range for randrange() (0,-169, -169)"
     ]
    }
   ],
   "source": [
    "'''\n",
    "NOTE that running this cell requires you to have a matrix of at least few hundred lines (and optionally 4 columns) to work\n",
    "See first cell to see how to obtain some data\n",
    "'''\n",
    "\n",
    "import random\n",
    "#Multi-spectral Feature Learning\n",
    "\n",
    "#Frequency channels 24Hx, 48Hz, 64Hz, 96Hz\n",
    "channels = [0,1,2,3]\n",
    "f = random.choice(channels)\n",
    "#Window length in seconds\n",
    "w = 10\n",
    "#Window step size\n",
    "o = 50\n",
    "\n",
    "#Training subspace Dm={(Dmi,yi)|0≤i≤Nd}\n",
    "def create_subspace(this_matrix, this_f,this_w,this_o):\n",
    "    subspace = np.zeros((1, 30))\n",
    "    #This process is repeated Ne = 3 times\n",
    "    for i in range (1,3):\n",
    "        #The position at highest can be = amount_of_samples_in_matrix - (3 * window length + window step size)\n",
    "        position = random.randint(0,(len(D)-(3*(this_w+this_o))))\n",
    "        k = 0\n",
    "        for j in range(position, position+this_w):\n",
    "            subspace[0, k] = (this_matrix[j, this_f]);\n",
    "            #print(D[j, this_f])\n",
    "            position = position + this_o;\n",
    "            k = k+1\n",
    "    return subspace\n",
    "\n",
    "test = create_subspace(D,f,w,o)\n",
    "#print(test)\n",
    "\n",
    "#M-dimensional training dataset D={(Di,yi)|0≤i≤Nd}\n",
    "#Here I'm creating a dataset with 200 samples\n",
    "m = 200\n",
    "data_D = np.zeros((m, 30))\n",
    "for i in range(0,m):\n",
    "    data_D[i] = create_subspace(D,f,w,o)\n",
    "print(data_D)"
   ]
  },
  {
   "cell_type": "code",
   "execution_count": null,
   "metadata": {},
   "outputs": [],
   "source": [
    "from scipy.special import softmax\n",
    "#Train SeizureNet parameterized by f(D,θ∗)\n",
    "\n",
    "'''TODO'''\n",
    "#Minimizing a training objective function θ∗= arg minθ LCE(y,f(D,θ))\n",
    "\n",
    "'''TODO'''\n",
    "#Cross-entropy loss LCE=∑Kk=1I(k=yi) log σ(Oe,yi)\n",
    "\n",
    "\n",
    "'''TODO'''\n",
    "#Combined logits produced by the ensemble Oe= 1/Ne∑Nee=1Ok\n",
    "#Ok denotes the logits produced by an individual sub-network\n",
    "\n",
    "#Indicator function I\n",
    "def I(k):\n",
    "    yi = k\n",
    "    print(yi)\n",
    "    return yi\n",
    "#SoftMax operation σ(zi) = exp zi/∑Kk=1expzk\n",
    "def logSoftMax(zi):\n",
    "    return math.log(softmax(zi))"
   ]
  },
  {
   "cell_type": "code",
   "execution_count": null,
   "metadata": {},
   "outputs": [],
   "source": []
  }
 ],
 "metadata": {
  "kernelspec": {
   "display_name": "Python 3",
   "language": "python",
   "name": "python3"
  },
  "language_info": {
   "codemirror_mode": {
    "name": "ipython",
    "version": 3
   },
   "file_extension": ".py",
   "mimetype": "text/x-python",
   "name": "python",
   "nbconvert_exporter": "python",
   "pygments_lexer": "ipython3",
   "version": "3.7.3"
  }
 },
 "nbformat": 4,
 "nbformat_minor": 2
}
